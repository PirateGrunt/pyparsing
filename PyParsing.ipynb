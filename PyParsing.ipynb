{
 "cells": [
  {
   "cell_type": "markdown",
   "metadata": {
    "slideshow": {
     "slide_type": "notes"
    }
   },
   "source": [
    "jupyter nbconvert PyParsing.ipynb --to slides --post serve"
   ]
  },
  {
   "cell_type": "markdown",
   "metadata": {
    "slideshow": {
     "slide_type": "slide"
    }
   },
   "source": [
    "# Introduction to Pyparsing\n",
    "\n",
    "## Brian A. Fannin"
   ]
  },
  {
   "cell_type": "markdown",
   "metadata": {
    "slideshow": {
     "slide_type": "slide"
    }
   },
   "source": [
    "## Installation"
   ]
  },
  {
   "cell_type": "markdown",
   "metadata": {
    "slideshow": {
     "slide_type": "fragment"
    }
   },
   "source": [
    "http://pyparsing.wikispaces.com/\n",
    "http://infohost.nmt.edu/tcc/help/pubs/pyparsing/web/index.html\n",
    "\n",
    "Support for Python < 2.6 requires installing a specific version. For anything else, >= 2.6 and 3.x, you're good to go. \n",
    "\n",
    "```\n",
    "pip install pyparsing\n",
    "```"
   ]
  },
  {
   "cell_type": "code",
   "execution_count": 20,
   "metadata": {
    "collapsed": true,
    "slideshow": {
     "slide_type": "fragment"
    }
   },
   "outputs": [],
   "source": [
    "from pyparsing import *"
   ]
  },
  {
   "cell_type": "code",
   "execution_count": 21,
   "metadata": {
    "collapsed": false,
    "slideshow": {
     "slide_type": "slide"
    }
   },
   "outputs": [
    {
     "data": {
      "text/plain": [
       "(['555', '-', '55', '-', '5555'], {})"
      ]
     },
     "execution_count": 21,
     "metadata": {},
     "output_type": "execute_result"
    }
   ],
   "source": [
    "ssn = (\n",
    "      Word(nums, exact=3) \n",
    "    + Literal(\"-\") \n",
    "    + Word(nums, exact=2) \n",
    "    + Literal('-') \n",
    "    + Word(nums, exact=4))\n",
    "\n",
    "ssn.parseString('555-55-5555')"
   ]
  },
  {
   "cell_type": "code",
   "execution_count": 22,
   "metadata": {
    "collapsed": false,
    "slideshow": {
     "slide_type": "fragment"
    }
   },
   "outputs": [
    {
     "name": "stdout",
     "output_type": "stream",
     "text": [
      "['555', '-', '55', '-', '5555']\n"
     ]
    }
   ],
   "source": [
    "print(ssn.parseString('555-55-5555'))"
   ]
  },
  {
   "cell_type": "code",
   "execution_count": 23,
   "metadata": {
    "collapsed": false
   },
   "outputs": [
    {
     "data": {
      "text/plain": [
       "['555-55-5555']"
      ]
     },
     "execution_count": 23,
     "metadata": {},
     "output_type": "execute_result"
    }
   ],
   "source": [
    "ssn = Combine(\n",
    "      Word(nums, exact=3) \n",
    "    + Literal(\"-\") \n",
    "    + Word(nums, exact=2) \n",
    "    + Literal('-') \n",
    "    + Word(nums, exact=4))\n",
    "\n",
    "list(ssn.parseString('555-55-5555'))"
   ]
  },
  {
   "cell_type": "markdown",
   "metadata": {},
   "source": [
    "The value returned from a call to parseString is an object of class `pyparsing.ParseResults`."
   ]
  },
  {
   "cell_type": "code",
   "execution_count": 24,
   "metadata": {
    "collapsed": false
   },
   "outputs": [
    {
     "data": {
      "text/plain": [
       "pyparsing.ParseResults"
      ]
     },
     "execution_count": 24,
     "metadata": {},
     "output_type": "execute_result"
    }
   ],
   "source": [
    "mojo = ssn.parseString('555-55-5555')\n",
    "type(mojo)"
   ]
  },
  {
   "cell_type": "code",
   "execution_count": 25,
   "metadata": {
    "collapsed": false
   },
   "outputs": [
    {
     "data": {
      "text/plain": [
       "(['555-55-5555'], {})"
      ]
     },
     "execution_count": 25,
     "metadata": {},
     "output_type": "execute_result"
    }
   ],
   "source": [
    "mojo"
   ]
  },
  {
   "cell_type": "code",
   "execution_count": 26,
   "metadata": {
    "collapsed": false
   },
   "outputs": [
    {
     "name": "stdout",
     "output_type": "stream",
     "text": [
      "['555-55-5555']\n"
     ]
    }
   ],
   "source": [
    "print(mojo)"
   ]
  },
  {
   "cell_type": "code",
   "execution_count": 27,
   "metadata": {
    "collapsed": false
   },
   "outputs": [
    {
     "name": "stdout",
     "output_type": "stream",
     "text": [
      "[['888-88-8888'], ['333-33-3333']]\n"
     ]
    }
   ],
   "source": [
    "some_text = \"\"\"\n",
    "    Jane Doe's social security number is 888-88-8888 and \n",
    "    Bob's is 333-33-3333. I'm not sure what Steve's number is.\n",
    "    I think it starts with 123-45.\n",
    "\"\"\"\n",
    "\n",
    "print(ssn.searchString(some_text))"
   ]
  },
  {
   "cell_type": "code",
   "execution_count": 28,
   "metadata": {
    "collapsed": false
   },
   "outputs": [
    {
     "name": "stdout",
     "output_type": "stream",
     "text": [
      "['555555555']\n"
     ]
    }
   ],
   "source": [
    "ssn.setParseAction(lambda toks: toks[0].replace('-', ''))\n",
    "print(ssn.parseString('555-55-5555'))"
   ]
  },
  {
   "cell_type": "code",
   "execution_count": 29,
   "metadata": {
    "collapsed": false
   },
   "outputs": [
    {
     "data": {
      "text/plain": [
       "([555555555], {})"
      ]
     },
     "execution_count": 29,
     "metadata": {},
     "output_type": "execute_result"
    }
   ],
   "source": [
    "strip_dash = lambda toks: toks[0].replace(\"-\", \"\")\n",
    "convert_int = lambda toks: int(toks[0])\n",
    "ssn.setParseAction(strip_dash, convert_int)\n",
    "mojo = ssn.parseString('555-55-5555')\n",
    "mojo"
   ]
  },
  {
   "cell_type": "code",
   "execution_count": 30,
   "metadata": {
    "collapsed": false
   },
   "outputs": [
    {
     "data": {
      "text/plain": [
       "555555555"
      ]
     },
     "execution_count": 30,
     "metadata": {},
     "output_type": "execute_result"
    }
   ],
   "source": [
    "ssn = ssn.setResultsName(\"ssn\")\n",
    "mojo = ssn.parseString('555-55-5555')\n",
    "mojo.ssn"
   ]
  },
  {
   "cell_type": "code",
   "execution_count": 31,
   "metadata": {
    "collapsed": false
   },
   "outputs": [
    {
     "name": "stdout",
     "output_type": "stream",
     "text": [
      "The value for mojo is 555555555 and its type is <class 'int'>.\n"
     ]
    }
   ],
   "source": [
    "mojo = ssn.parseString('555-55-5555').ssn\n",
    "print('The value for mojo is {} and its type is {}.'.format(mojo, type(mojo)))"
   ]
  },
  {
   "cell_type": "code",
   "execution_count": 32,
   "metadata": {
    "collapsed": false
   },
   "outputs": [
    {
     "data": {
      "text/plain": [
       "[888888888, 333333333]"
      ]
     },
     "execution_count": 32,
     "metadata": {},
     "output_type": "execute_result"
    }
   ],
   "source": [
    "mojo = ssn.searchString(some_text)\n",
    "ssns = [soc.ssn for soc in mojo]\n",
    "ssns"
   ]
  },
  {
   "cell_type": "code",
   "execution_count": 33,
   "metadata": {
    "collapsed": false
   },
   "outputs": [
    {
     "name": "stdout",
     "output_type": "stream",
     "text": [
      "[32, 'ft.']\n"
     ]
    }
   ],
   "source": [
    "strip_comma = lambda toks: toks[0].replace(\",\", \"\")\n",
    "\n",
    "decimal_number = (\n",
    "      Word(nums, nums + \",\") \n",
    "    + Optional(Literal(\".\") + Word(nums)))\n",
    "    \n",
    "units = Word(alphas, alphas + \".\")\n",
    "\n",
    "observation = (\n",
    "      decimal_number.setResultsName('measure').setParseAction(strip_comma, convert_int)\n",
    "    + units.setResultsName('units')\n",
    ")\n",
    "\n",
    "test_strs = [\n",
    "    '32 ft.',\n",
    "    '48 feet',\n",
    "    '14 meters',\n",
    "    '1,000 yards',\n",
    "]\n",
    "\n",
    "print(observation.parseString(test_strs[0]))"
   ]
  },
  {
   "cell_type": "code",
   "execution_count": 34,
   "metadata": {
    "collapsed": false
   },
   "outputs": [
    {
     "data": {
      "text/plain": [
       "32"
      ]
     },
     "execution_count": 34,
     "metadata": {},
     "output_type": "execute_result"
    }
   ],
   "source": [
    "observation.parseString(test_strs[0]).measure"
   ]
  },
  {
   "cell_type": "code",
   "execution_count": 35,
   "metadata": {
    "collapsed": false
   },
   "outputs": [
    {
     "data": {
      "text/plain": [
       "[32, 48, 14, 1000]"
      ]
     },
     "execution_count": 35,
     "metadata": {},
     "output_type": "execute_result"
    }
   ],
   "source": [
    "obs = [observation.parseString(ob).measure for ob in test_strs]\n",
    "obs"
   ]
  },
  {
   "cell_type": "code",
   "execution_count": 36,
   "metadata": {
    "collapsed": false
   },
   "outputs": [
    {
     "data": {
      "text/plain": [
       "['ft.', 'feet', 'meters', 'yards']"
      ]
     },
     "execution_count": 36,
     "metadata": {},
     "output_type": "execute_result"
    }
   ],
   "source": [
    "units = [observation.parseString(ob).units for ob in test_strs]\n",
    "units"
   ]
  },
  {
   "cell_type": "markdown",
   "metadata": {},
   "source": [
    "## Data in the wild\n",
    "\n",
    "Let's use pyparsing to churn through some random HTML. I love Michael Caine, but I hate trolling the IMDB site. We'll build a parser that will strip interesting things from IMDB. (Yes, we could use Beautiful Soup for this.)\n",
    "\n",
    "[Michael Caine on IMDB](http://www.imdb.com/name/nm0000323/)"
   ]
  },
  {
   "cell_type": "code",
   "execution_count": 37,
   "metadata": {
    "collapsed": false
   },
   "outputs": [
    {
     "data": {
      "text/plain": [
       "200"
      ]
     },
     "execution_count": 37,
     "metadata": {},
     "output_type": "execute_result"
    }
   ],
   "source": [
    "import requests\n",
    "\n",
    "response = requests.get('http://www.imdb.com/name/nm0000323/')\n",
    "response.status_code"
   ]
  },
  {
   "cell_type": "code",
   "execution_count": 38,
   "metadata": {
    "collapsed": false
   },
   "outputs": [
    {
     "data": {
      "text/plain": [
       "261837"
      ]
     },
     "execution_count": 38,
     "metadata": {},
     "output_type": "execute_result"
    }
   ],
   "source": [
    "len(response.text)"
   ]
  },
  {
   "cell_type": "code",
   "execution_count": 39,
   "metadata": {
    "collapsed": false,
    "scrolled": true
   },
   "outputs": [
    {
     "data": {
      "text/plain": [
       "'\\n\\n\\n\\n\\n<!DOCTYPE html>\\n<html\\nxmlns:og=\"http://ogp.me/ns#\"\\nxmlns:fb=\"http://www.facebook.com/2008/fbml\">\\n    <head>\\n        <meta charset=\"utf-8\">\\n        <meta http-equiv=\"X-UA-Compatible\" content=\"IE=edge\">\\n\\n    <meta name=\"apple-itunes-app\" content=\"app-id=342792525, app-argument=imdb:///name/nm0000323?src=mdot\">\\n            <script type=\"text/javascript\">var ue_t0=window.ue_t0||+new Date();</script>\\n            <script type=\"text/javascript\">\\n                var ue_mid = \"A1EVAM02EL8SFB\"; \\n                var ue_sn = \"www.imdb.com\";  \\n                var ue_furl = \"fls-na.amazon.com\";\\n                var ue_sid = \"000-0000000-0000000\";\\n                var ue_id = \"1KB2QEH3ZQKMGC7CNQC3\";\\n                (function(e){var c=e;var a=c.ue||{};a.main_scope=\"mainscopecsm\";a.q=[];a.t0=c.ue_t0||+new Date();a.d=g;function g(h){return +new Date()-(h?0:a.t0)}function d(h){return function(){a.q.push({n:h,a:arguments,t:a.d()})}}function b(m,l,h,j,i){var k={m:m,f:l,l:h,c:\"\"+j,err:i,fromOnError:1,arg'"
      ]
     },
     "execution_count": 39,
     "metadata": {},
     "output_type": "execute_result"
    }
   ],
   "source": [
    "response.text[:1000]"
   ]
  },
  {
   "cell_type": "markdown",
   "metadata": {},
   "source": [
    "```\n",
    "<div class=\"filmo-row even\" id=\"actor-tt5013056\">\n",
    "<span class=\"year_column\">\n",
    "&nbsp;2017\n",
    "</span>\n",
    "<b><a href=\"/title/tt5013056/?ref_=nm_flmg_act_2\">Dunkirk</a></b>\n",
    "<br>\n",
    "Radio Communication\n",
    "(voice, uncredited)\n",
    "</div>\n",
    "```"
   ]
  },
  {
   "cell_type": "code",
   "execution_count": 40,
   "metadata": {
    "collapsed": false
   },
   "outputs": [
    {
     "name": "stdout",
     "output_type": "stream",
     "text": [
      "['div', ['id', 'wrapper'], False]\n"
     ]
    }
   ],
   "source": [
    "div_start, div_end = makeHTMLTags(\"div\")\n",
    "\n",
    "divs = div_start.searchString(response.text)\n",
    "print(divs[0])"
   ]
  },
  {
   "cell_type": "code",
   "execution_count": 41,
   "metadata": {
    "collapsed": false
   },
   "outputs": [
    {
     "name": "stdout",
     "output_type": "stream",
     "text": [
      "['div', ['id', 'root'], ['class', 'redesign'], False]\n"
     ]
    }
   ],
   "source": [
    "print(divs[1])"
   ]
  },
  {
   "cell_type": "code",
   "execution_count": 42,
   "metadata": {
    "collapsed": false
   },
   "outputs": [
    {
     "name": "stdout",
     "output_type": "stream",
     "text": [
      "redesign\n"
     ]
    }
   ],
   "source": [
    "print(divs[1]['class'])"
   ]
  },
  {
   "cell_type": "markdown",
   "metadata": {},
   "source": [
    "We need to do two things:\n",
    "\n",
    "1. Make sure that the div has a key for the class\n",
    "2. Check that the class corresponds to a film entry"
   ]
  },
  {
   "cell_type": "code",
   "execution_count": 43,
   "metadata": {
    "collapsed": false,
    "scrolled": true
   },
   "outputs": [
    {
     "name": "stdout",
     "output_type": "stream",
     "text": [
      "redesign\n",
      "navbarSprite\n",
      "navbarSprite\n",
      "magnifyingglass navbarSprite\n",
      "quicksearch_dropdown_wrapper\n",
      "sub_nav\n",
      "subNavListContainer\n",
      "subNavListContainer\n",
      "sub_nav\n",
      "subNavListContainer\n",
      "subNavListContainer\n",
      "sub_nav\n",
      "subNavListContainer\n",
      "subNavListContainer\n",
      "sub_nav\n",
      "imdb-pro-ad sub_nav\n",
      "imdb-pro-ad__image\n",
      "pagecontent\n",
      "redesign\n",
      "maindetails_center\n",
      "article name-overview\n",
      "image\n",
      "meter-collapsed up three-line\n",
      "meterToggleOnHover\n",
      "meterToggleOnHover\n",
      "meterToggleOnHover\n",
      "infobar\n",
      "txt-block\n",
      "name-trivia-bio-text\n",
      "inline\n",
      "txt-block\n",
      "pro-list\n",
      "mediastrip_container\n",
      "mediastrip\n",
      "see-more\n",
      "maindetails_sidebar\n",
      "aux-content-widget-3 links subnav\n",
      "split_0\n",
      "split_1\n",
      "show_more\n",
      "show_less\n",
      "aux-content-widget-2\n",
      "ab_ninja\n",
      "widget_content no_inline_blurb\n",
      "widget_nested\n",
      "ninja_image_pack\n",
      "ninja_center\n",
      "ninja_image first_image last_image\n",
      "widget_image\n",
      "image\n",
      "widget_caption caption_overlay\n",
      "primary\n",
      "onoverflow\n",
      "aux-content-widget-2\n",
      "social\n",
      "social_networking\n",
      "social_networking_like\n",
      "aux-content-widget-2\n",
      "news_item odd\n",
      "news_item even\n",
      "news_item odd\n",
      "see-more\n",
      "aux-content-widget-2\n",
      "ab_zergnet\n",
      "widget_content no_inline_blurb\n",
      "widget_nested\n",
      "aux-content-widget-2\n",
      "on-aiv-row\n",
      "on-aiv-button name-aiv\n",
      "on-aiv-title\n",
      "on-aiv-row\n",
      "on-aiv-button name-aiv\n",
      "on-aiv-title\n",
      "on-aiv-row\n",
      "on-aiv-button name-aiv\n",
      "on-aiv-title\n",
      "on-aiv-row\n",
      "on-aiv-button name-aiv\n",
      "on-aiv-title\n",
      "on-aiv-row\n",
      "on-aiv-button name-aiv\n",
      "on-aiv-title\n",
      "see-more\n",
      "article on-tv\n",
      "odd\n",
      "airtime\n",
      "even\n",
      "airtime\n",
      "see-more\n",
      "aux-content-widget-2\n",
      "devitem odd\n",
      "year_column\n",
      "devitem even\n",
      "see-more\n",
      "aux-content-widget-2\n",
      "rightcornerlink\n",
      "list-preview even\n",
      "list-preview-item-narrow\n",
      "list_name\n",
      "list_meta\n",
      "clear\n",
      "list-preview odd\n",
      "list-preview-item-narrow\n",
      "list_name\n",
      "list_meta\n",
      "clear\n",
      "list-preview even\n",
      "list-preview-item-narrow\n",
      "list_name\n",
      "list_meta\n",
      "clear\n",
      "list-preview odd\n",
      "list-preview-item-narrow\n",
      "list_name\n",
      "list_meta\n",
      "clear\n",
      "list-preview even\n",
      "list-preview-item-narrow\n",
      "list_name\n",
      "list_meta\n",
      "clear\n",
      "see-more\n",
      "aux-content-widget-2\n",
      "video-browser-widget\n",
      "aux-content-widget-2\n",
      "aux-content-widget-2 \n",
      "aux-content-widget-2 poll-widget-rhs \n",
      "see-more\n",
      "maindetails_center\n",
      "article highlighted\n",
      "article\n",
      "knownfor-title\n",
      "knownfor-title-role\n",
      "knownfor-year\n",
      "knownfor-title\n",
      "knownfor-title-role\n",
      "knownfor-year\n",
      "knownfor-title\n",
      "knownfor-title-role\n",
      "knownfor-year\n",
      "knownfor-title last\n",
      "knownfor-title-role\n",
      "knownfor-year\n",
      "article\n",
      "rightcornerlink\n",
      "head\n",
      "filmo-category-section\n",
      "filmo-row odd\n",
      "filmo-row even\n",
      "filmo-row odd\n",
      "filmo-row even\n",
      "filmo-row odd\n",
      "filmo-row even\n",
      "filmo-row odd\n",
      "filmo-row even\n",
      "filmo-row odd\n",
      "filmo-row even\n",
      "filmo-row odd\n",
      "filmo-row even\n",
      "filmo-row odd\n",
      "filmo-row even\n",
      "filmo-row odd\n",
      "filmo-row even\n",
      "filmo-row odd\n",
      "filmo-row even\n",
      "filmo-row odd\n",
      "filmo-row even\n",
      "filmo-row odd\n",
      "filmo-row even\n",
      "filmo-row odd\n",
      "filmo-row even\n",
      "filmo-row odd\n",
      "filmo-row even\n",
      "filmo-row odd\n",
      "filmo-row even\n",
      "filmo-row odd\n",
      "filmo-row even\n",
      "filmo-row odd\n",
      "filmo-row even\n",
      "filmo-row odd\n",
      "filmo-row even\n",
      "filmo-episodes\n",
      "filmo-episodes\n",
      "filmo-episodes\n",
      "filmo-episodes\n",
      "filmo-episodes\n",
      "filmo-episodes\n",
      "filmo-row odd\n",
      "filmo-row even\n",
      "filmo-row odd\n",
      "filmo-row even\n",
      "filmo-row odd\n",
      "filmo-row even\n",
      "filmo-row odd\n",
      "filmo-row even\n",
      "filmo-row odd\n",
      "filmo-row even\n",
      "filmo-row odd\n",
      "filmo-row even\n",
      "filmo-row odd\n",
      "filmo-row even\n",
      "filmo-row odd\n",
      "filmo-episodes\n",
      "filmo-episodes\n",
      "filmo-row even\n",
      "filmo-row odd\n",
      "filmo-row even\n",
      "filmo-row odd\n",
      "filmo-row even\n",
      "filmo-row odd\n",
      "filmo-row even\n",
      "filmo-row odd\n",
      "filmo-row even\n",
      "filmo-row odd\n",
      "filmo-row even\n",
      "filmo-row odd\n",
      "filmo-row even\n",
      "filmo-row odd\n",
      "filmo-row even\n",
      "filmo-episodes\n",
      "filmo-episodes\n",
      "filmo-row odd\n",
      "filmo-row even\n",
      "filmo-row odd\n",
      "filmo-row even\n",
      "filmo-row odd\n",
      "filmo-row even\n",
      "filmo-row odd\n",
      "filmo-row even\n",
      "filmo-row odd\n",
      "filmo-row even\n",
      "filmo-row odd\n",
      "filmo-row even\n",
      "filmo-row odd\n",
      "filmo-row even\n",
      "filmo-row odd\n",
      "filmo-row even\n",
      "filmo-row odd\n",
      "filmo-row even\n",
      "filmo-row odd\n",
      "filmo-row even\n",
      "filmo-row odd\n",
      "filmo-row even\n",
      "filmo-row odd\n",
      "filmo-row even\n",
      "filmo-row odd\n",
      "filmo-row even\n",
      "filmo-row odd\n",
      "filmo-row even\n",
      "filmo-row odd\n",
      "filmo-row even\n",
      "filmo-row odd\n",
      "filmo-row even\n",
      "filmo-row odd\n",
      "filmo-row even\n",
      "filmo-row odd\n",
      "filmo-row even\n",
      "filmo-row odd\n",
      "filmo-row even\n",
      "filmo-row odd\n",
      "filmo-row even\n",
      "filmo-row odd\n",
      "filmo-row even\n",
      "filmo-row odd\n",
      "filmo-row even\n",
      "filmo-episodes\n",
      "filmo-row odd\n",
      "filmo-row even\n",
      "filmo-row odd\n",
      "filmo-row even\n",
      "filmo-row odd\n",
      "filmo-row even\n",
      "filmo-row odd\n",
      "filmo-row even\n",
      "filmo-row odd\n",
      "filmo-row even\n",
      "filmo-row odd\n",
      "filmo-row even\n",
      "filmo-row odd\n",
      "filmo-episodes\n",
      "filmo-episodes\n",
      "filmo-episodes\n",
      "filmo-row even\n",
      "filmo-row odd\n",
      "filmo-row even\n",
      "filmo-episodes\n",
      "filmo-episodes\n",
      "filmo-row odd\n",
      "filmo-row even\n",
      "filmo-episodes\n",
      "filmo-row odd\n",
      "filmo-episodes\n",
      "filmo-row even\n",
      "filmo-episodes\n",
      "filmo-row odd\n",
      "filmo-episodes\n",
      "filmo-episodes\n",
      "filmo-row even\n",
      "filmo-row odd\n",
      "filmo-row even\n",
      "filmo-episodes\n",
      "filmo-row odd\n",
      "filmo-episodes\n",
      "filmo-row even\n",
      "filmo-row odd\n",
      "filmo-episodes\n",
      "filmo-row even\n",
      "filmo-row odd\n",
      "filmo-row even\n",
      "filmo-row odd\n",
      "filmo-episodes\n",
      "filmo-row even\n",
      "filmo-episodes\n",
      "filmo-row odd\n",
      "filmo-episodes\n",
      "filmo-row even\n",
      "filmo-episodes\n",
      "filmo-row odd\n",
      "filmo-episodes\n",
      "filmo-episodes\n",
      "filmo-row even\n",
      "filmo-episodes\n",
      "filmo-episodes\n",
      "filmo-episodes\n",
      "filmo-row odd\n",
      "filmo-row even\n",
      "filmo-episodes\n",
      "filmo-row odd\n",
      "filmo-row even\n",
      "filmo-row odd\n",
      "filmo-episodes\n",
      "filmo-episodes\n",
      "filmo-episodes\n",
      "filmo-episodes\n",
      "filmo-row even\n",
      "filmo-row odd\n",
      "filmo-row even\n",
      "filmo-row odd\n",
      "filmo-episodes\n",
      "filmo-row even\n",
      "filmo-episodes\n",
      "filmo-row odd\n",
      "filmo-row even\n",
      "filmo-episodes\n",
      "filmo-row odd\n",
      "filmo-episodes\n",
      "filmo-row even\n",
      "filmo-row odd\n",
      "filmo-row even\n",
      "filmo-row odd\n",
      "filmo-episodes\n",
      "filmo-row even\n",
      "filmo-episodes\n",
      "filmo-row odd\n",
      "filmo-row even\n",
      "head\n",
      "filmo-category-section\n",
      "filmo-row odd\n",
      "filmo-row even\n",
      "filmo-row odd\n",
      "filmo-row even\n",
      "filmo-row odd\n",
      "filmo-row even\n",
      "filmo-row odd\n",
      "head\n",
      "filmo-category-section\n",
      "filmo-row odd\n",
      "filmo-row even\n",
      "filmo-episodes\n",
      "filmo-episodes\n",
      "filmo-row odd\n",
      "filmo-row even\n",
      "filmo-row odd\n",
      "head\n",
      "filmo-category-section\n",
      "filmo-row odd\n",
      "head\n",
      "filmo-category-section\n",
      "filmo-row odd\n",
      "head\n",
      "filmo-category-section\n",
      "filmo-row odd\n",
      "filmo-row even\n",
      "filmo-row odd\n",
      "filmo-episodes\n",
      "filmo-row even\n",
      "filmo-episodes\n",
      "head\n",
      "filmo-category-section\n",
      "filmo-row odd\n",
      "filmo-row even\n",
      "filmo-row odd\n",
      "filmo-episodes\n",
      "filmo-row even\n",
      "filmo-episodes\n",
      "filmo-row odd\n",
      "filmo-episodes\n",
      "filmo-row even\n",
      "filmo-episodes\n",
      "filmo-episodes\n",
      "filmo-episodes\n",
      "filmo-row odd\n",
      "filmo-episodes\n",
      "filmo-row even\n",
      "filmo-episodes\n",
      "filmo-episodes\n",
      "filmo-episodes\n",
      "filmo-row odd\n",
      "filmo-episodes\n",
      "filmo-episodes\n",
      "filmo-episodes\n",
      "filmo-episodes\n",
      "filmo-episodes\n",
      "filmo-row even\n",
      "filmo-row odd\n",
      "filmo-row even\n",
      "filmo-row odd\n",
      "filmo-episodes\n",
      "filmo-row even\n",
      "filmo-episodes\n",
      "filmo-row odd\n",
      "filmo-episodes\n",
      "filmo-episodes\n",
      "filmo-episodes\n",
      "filmo-episodes\n",
      "filmo-episodes\n",
      "filmo-episodes\n",
      "filmo-row even\n",
      "filmo-episodes\n",
      "filmo-row odd\n",
      "filmo-episodes\n",
      "filmo-row even\n",
      "filmo-row odd\n",
      "filmo-episodes\n",
      "filmo-row even\n",
      "filmo-episodes\n",
      "filmo-row odd\n",
      "filmo-row even\n",
      "filmo-row odd\n",
      "filmo-episodes\n",
      "filmo-row even\n",
      "filmo-episodes\n",
      "filmo-episodes\n",
      "filmo-row odd\n",
      "filmo-row even\n",
      "filmo-row odd\n",
      "filmo-row even\n",
      "filmo-episodes\n",
      "filmo-row odd\n",
      "filmo-row even\n",
      "filmo-row odd\n",
      "filmo-episodes\n",
      "filmo-episodes\n",
      "filmo-row even\n",
      "filmo-episodes\n",
      "filmo-row odd\n",
      "filmo-episodes\n",
      "filmo-row even\n",
      "filmo-episodes\n",
      "filmo-row odd\n",
      "filmo-episodes\n",
      "filmo-row even\n",
      "filmo-episodes\n",
      "filmo-episodes\n",
      "filmo-episodes\n",
      "filmo-episodes\n",
      "filmo-episodes\n",
      "filmo-episodes\n",
      "filmo-row odd\n",
      "filmo-episodes\n",
      "filmo-episodes\n",
      "filmo-episodes\n",
      "filmo-episodes\n",
      "filmo-row even\n",
      "filmo-episodes\n",
      "filmo-row odd\n",
      "filmo-episodes\n",
      "filmo-episodes\n",
      "filmo-row even\n",
      "filmo-episodes\n",
      "filmo-episodes\n",
      "filmo-episodes\n",
      "filmo-episodes\n",
      "filmo-row odd\n",
      "filmo-episodes\n",
      "filmo-row even\n",
      "filmo-episodes\n",
      "filmo-episodes\n",
      "filmo-row odd\n",
      "filmo-episodes\n",
      "filmo-row even\n",
      "filmo-episodes\n",
      "filmo-episodes\n",
      "filmo-episodes\n",
      "filmo-row odd\n",
      "filmo-episodes\n",
      "filmo-row even\n",
      "filmo-row odd\n",
      "filmo-episodes\n",
      "filmo-row even\n",
      "filmo-episodes\n",
      "filmo-row odd\n",
      "filmo-episodes\n",
      "filmo-episodes\n",
      "filmo-row even\n",
      "filmo-episodes\n",
      "filmo-row odd\n",
      "filmo-episodes\n",
      "filmo-row even\n",
      "filmo-episodes\n",
      "filmo-episodes\n",
      "filmo-episodes\n",
      "filmo-episodes\n",
      "filmo-episodes\n",
      "filmo-episodes\n",
      "filmo-row odd\n",
      "filmo-row even\n",
      "filmo-episodes\n",
      "filmo-row odd\n",
      "filmo-row even\n",
      "filmo-episodes\n",
      "filmo-row odd\n",
      "filmo-row even\n",
      "filmo-row odd\n",
      "filmo-row even\n",
      "filmo-episodes\n",
      "filmo-episodes\n",
      "filmo-episodes\n",
      "filmo-episodes\n",
      "filmo-episodes\n",
      "filmo-row odd\n",
      "filmo-episodes\n",
      "filmo-row even\n",
      "filmo-episodes\n",
      "filmo-row odd\n",
      "filmo-episodes\n",
      "filmo-episodes\n",
      "filmo-episodes\n",
      "filmo-episodes\n",
      "filmo-row even\n",
      "filmo-row odd\n",
      "filmo-row even\n",
      "filmo-episodes\n",
      "filmo-row odd\n",
      "filmo-row even\n",
      "filmo-episodes\n",
      "filmo-row odd\n",
      "filmo-episodes\n",
      "filmo-row even\n",
      "filmo-row odd\n",
      "filmo-episodes\n",
      "filmo-row even\n",
      "filmo-episodes\n",
      "filmo-row odd\n",
      "filmo-episodes\n",
      "filmo-row even\n",
      "filmo-row odd\n",
      "filmo-row even\n",
      "filmo-row odd\n",
      "filmo-row even\n",
      "filmo-row odd\n",
      "filmo-episodes\n",
      "filmo-row even\n",
      "filmo-episodes\n",
      "filmo-row odd\n",
      "filmo-row even\n",
      "filmo-row odd\n",
      "filmo-row even\n",
      "filmo-row odd\n",
      "filmo-row even\n",
      "filmo-episodes\n",
      "filmo-row odd\n",
      "filmo-episodes\n",
      "filmo-row even\n",
      "filmo-row odd\n",
      "filmo-episodes\n",
      "filmo-row even\n",
      "filmo-row odd\n",
      "filmo-episodes\n",
      "filmo-row even\n",
      "filmo-episodes\n",
      "filmo-episodes\n",
      "filmo-episodes\n",
      "filmo-row odd\n",
      "filmo-episodes\n",
      "filmo-row even\n",
      "filmo-row odd\n",
      "filmo-row even\n",
      "filmo-episodes\n",
      "filmo-row odd\n",
      "filmo-row even\n",
      "filmo-row odd\n",
      "filmo-episodes\n",
      "filmo-row even\n",
      "filmo-row odd\n",
      "filmo-row even\n",
      "filmo-episodes\n",
      "filmo-row odd\n",
      "filmo-episodes\n",
      "filmo-row even\n",
      "filmo-row odd\n",
      "filmo-episodes\n",
      "filmo-row even\n",
      "filmo-row odd\n",
      "filmo-row even\n",
      "filmo-row odd\n",
      "filmo-row even\n",
      "filmo-row odd\n",
      "filmo-row even\n",
      "filmo-row odd\n",
      "filmo-row even\n",
      "filmo-episodes\n",
      "filmo-episodes\n",
      "filmo-row odd\n",
      "filmo-episodes\n",
      "filmo-episodes\n",
      "filmo-row even\n",
      "filmo-row odd\n",
      "filmo-row even\n",
      "filmo-row odd\n",
      "filmo-episodes\n",
      "filmo-row even\n",
      "filmo-episodes\n",
      "filmo-row odd\n",
      "filmo-row even\n",
      "filmo-row odd\n",
      "filmo-episodes\n",
      "filmo-row even\n",
      "filmo-episodes\n",
      "filmo-row odd\n",
      "filmo-row even\n",
      "filmo-row odd\n",
      "filmo-row even\n",
      "filmo-row odd\n",
      "filmo-row even\n",
      "filmo-row odd\n",
      "filmo-row even\n",
      "filmo-row odd\n",
      "filmo-episodes\n",
      "filmo-row even\n",
      "filmo-episodes\n",
      "filmo-row odd\n",
      "filmo-row even\n",
      "filmo-episodes\n",
      "filmo-episodes\n",
      "filmo-episodes\n",
      "filmo-row odd\n",
      "filmo-episodes\n",
      "filmo-row even\n",
      "filmo-row odd\n",
      "filmo-row even\n",
      "filmo-row odd\n",
      "filmo-row even\n",
      "filmo-row odd\n",
      "filmo-row even\n",
      "filmo-episodes\n",
      "filmo-episodes\n",
      "filmo-episodes\n",
      "filmo-row odd\n",
      "filmo-row even\n",
      "filmo-row odd\n",
      "filmo-row even\n",
      "filmo-row odd\n",
      "filmo-row even\n",
      "filmo-row odd\n",
      "filmo-episodes\n",
      "filmo-row even\n",
      "filmo-row odd\n",
      "filmo-row even\n",
      "filmo-episodes\n",
      "filmo-row odd\n",
      "filmo-row even\n",
      "filmo-row odd\n",
      "filmo-row even\n",
      "filmo-row odd\n",
      "filmo-row even\n",
      "filmo-row odd\n",
      "filmo-row even\n",
      "filmo-episodes\n",
      "filmo-row odd\n",
      "filmo-episodes\n",
      "filmo-episodes\n",
      "filmo-row even\n",
      "filmo-row odd\n",
      "filmo-row even\n",
      "filmo-episodes\n",
      "filmo-row odd\n",
      "filmo-row even\n",
      "filmo-row odd\n",
      "filmo-row even\n",
      "filmo-row odd\n",
      "filmo-episodes\n",
      "filmo-row even\n",
      "filmo-row odd\n",
      "filmo-row even\n",
      "filmo-row odd\n",
      "filmo-episodes\n",
      "filmo-row even\n",
      "filmo-episodes\n",
      "filmo-episodes\n",
      "filmo-episodes\n",
      "filmo-episodes\n",
      "filmo-episodes\n",
      "filmo-episodes\n",
      "filmo-row odd\n",
      "filmo-row even\n",
      "filmo-row odd\n",
      "filmo-episodes\n",
      "filmo-episodes\n",
      "filmo-episodes\n",
      "filmo-row even\n",
      "filmo-row odd\n",
      "filmo-episodes\n",
      "filmo-episodes\n",
      "filmo-episodes\n",
      "filmo-episodes\n",
      "filmo-episodes\n",
      "filmo-episodes\n",
      "filmo-row even\n",
      "filmo-row odd\n",
      "filmo-row even\n",
      "filmo-episodes\n",
      "filmo-episodes\n",
      "filmo-row odd\n",
      "filmo-row even\n",
      "filmo-row odd\n",
      "filmo-row even\n",
      "filmo-row odd\n",
      "filmo-episodes\n",
      "filmo-row even\n",
      "filmo-row odd\n",
      "filmo-episodes\n",
      "filmo-row even\n",
      "filmo-row odd\n",
      "filmo-row even\n",
      "filmo-row odd\n",
      "filmo-row even\n",
      "filmo-row odd\n",
      "filmo-row even\n",
      "filmo-row odd\n",
      "filmo-episodes\n",
      "filmo-row even\n",
      "filmo-episodes\n",
      "filmo-episodes\n",
      "filmo-row odd\n",
      "filmo-episodes\n",
      "filmo-episodes\n",
      "filmo-row even\n",
      "filmo-row odd\n",
      "filmo-row even\n",
      "filmo-episodes\n",
      "filmo-row odd\n",
      "filmo-row even\n",
      "filmo-episodes\n",
      "filmo-episodes\n",
      "filmo-episodes\n",
      "filmo-row odd\n",
      "filmo-episodes\n",
      "filmo-row even\n",
      "filmo-episodes\n",
      "filmo-row odd\n",
      "filmo-episodes\n",
      "filmo-row even\n",
      "filmo-row odd\n",
      "filmo-row even\n",
      "filmo-row odd\n",
      "filmo-row even\n",
      "filmo-row odd\n",
      "filmo-row even\n",
      "filmo-episodes\n",
      "filmo-row odd\n",
      "filmo-episodes\n",
      "filmo-episodes\n",
      "filmo-episodes\n",
      "filmo-row even\n",
      "filmo-row odd\n",
      "filmo-episodes\n",
      "filmo-row even\n",
      "filmo-episodes\n",
      "filmo-row odd\n",
      "filmo-episodes\n",
      "filmo-row even\n",
      "filmo-row odd\n",
      "filmo-row even\n",
      "filmo-episodes\n",
      "head\n",
      "filmo-category-section\n",
      "filmo-row odd\n",
      "filmo-episodes\n",
      "filmo-episodes\n",
      "filmo-row even\n",
      "filmo-episodes\n",
      "filmo-row odd\n",
      "filmo-row even\n",
      "filmo-row odd\n",
      "filmo-row even\n",
      "filmo-episodes\n",
      "filmo-row odd\n",
      "filmo-row even\n",
      "filmo-row odd\n",
      "filmo-row even\n",
      "filmo-row odd\n",
      "filmo-episodes\n",
      "filmo-row even\n",
      "filmo-episodes\n",
      "filmo-row odd\n",
      "filmo-row even\n",
      "filmo-episodes\n",
      "filmo-row odd\n",
      "filmo-row even\n",
      "filmo-episodes\n",
      "filmo-episodes\n",
      "filmo-episodes\n",
      "filmo-row odd\n",
      "filmo-row even\n",
      "filmo-episodes\n",
      "filmo-episodes\n",
      "filmo-row odd\n",
      "filmo-row even\n",
      "filmo-row odd\n",
      "filmo-episodes\n",
      "filmo-row even\n",
      "filmo-row odd\n",
      "filmo-episodes\n",
      "filmo-row even\n",
      "filmo-episodes\n",
      "filmo-row odd\n",
      "filmo-episodes\n",
      "filmo-episodes\n",
      "filmo-row even\n",
      "filmo-row odd\n",
      "filmo-row even\n",
      "filmo-episodes\n",
      "filmo-row odd\n",
      "filmo-row even\n",
      "filmo-row odd\n",
      "filmo-episodes\n",
      "filmo-row even\n",
      "filmo-episodes\n",
      "filmo-row odd\n",
      "filmo-episodes\n",
      "filmo-row even\n",
      "filmo-row odd\n",
      "filmo-row even\n",
      "filmo-episodes\n",
      "filmo-row odd\n",
      "filmo-episodes\n",
      "filmo-row even\n",
      "filmo-row odd\n",
      "filmo-row even\n",
      "filmo-episodes\n",
      "filmo-row odd\n",
      "filmo-row even\n",
      "filmo-row odd\n",
      "filmo-episodes\n",
      "filmo-row even\n",
      "filmo-row odd\n",
      "filmo-episodes\n",
      "filmo-row even\n",
      "filmo-row odd\n",
      "filmo-episodes\n",
      "filmo-row even\n",
      "filmo-row odd\n",
      "filmo-episodes\n",
      "filmo-row even\n",
      "filmo-episodes\n",
      "filmo-row odd\n",
      "filmo-episodes\n",
      "filmo-row even\n",
      "filmo-episodes\n",
      "filmo-row odd\n",
      "filmo-row even\n",
      "filmo-row odd\n",
      "filmo-row even\n",
      "article\n",
      "mediastrip_big\n",
      "see-more\n",
      "article\n",
      "see-more inline canwrap\n",
      "see-more inline canwrap\n",
      "see-more inline canwrap\n",
      "see-more inline canwrap\n",
      "see-more inline canwrap\n",
      "article\n",
      "see-more inline canwrap\n",
      "see-more inline canwrap\n",
      "see-more inline canwrap\n",
      "see-more inline canwrap\n",
      "article contribute\n",
      "rightcornerlink\n",
      "button-box\n",
      "button-box\n",
      "ft\n",
      "recently-viewed\n",
      "container footer-grid-wrapper\n",
      "row footer-row\n",
      "col outside\n",
      "app-links\n",
      "col center\n",
      "link-bar icon-link-bar\n",
      "col outside\n",
      "row\n",
      "col col-4\n",
      "col col-4\n",
      "col col-4\n",
      "container\n",
      "ft-copy float-right\n"
     ]
    },
    {
     "data": {
      "text/plain": [
       "907"
      ]
     },
     "execution_count": 43,
     "metadata": {},
     "output_type": "execute_result"
    }
   ],
   "source": [
    "film_divs = []\n",
    "for div in divs:\n",
    "    try:\n",
    "        the_class = div['class']\n",
    "    except:\n",
    "        continue\n",
    "    print(the_class)\n",
    "    film_divs.append(div)\n",
    "    \n",
    "len(film_divs)"
   ]
  },
  {
   "cell_type": "code",
   "execution_count": 44,
   "metadata": {
    "collapsed": false
   },
   "outputs": [
    {
     "data": {
      "text/plain": [
       "(['filmo-row even'], {})"
      ]
     },
     "execution_count": 44,
     "metadata": {},
     "output_type": "execute_result"
    }
   ],
   "source": [
    "filmo_class = (\n",
    "    Literal('filmo-row') \n",
    "    + (Literal('even') | Literal('odd'))\n",
    ").setParseAction(lambda toks: ' '.join(toks))\n",
    "\n",
    "filmo_class.parseString(\"filmo-row even\")"
   ]
  },
  {
   "cell_type": "code",
   "execution_count": 45,
   "metadata": {
    "collapsed": false
   },
   "outputs": [
    {
     "data": {
      "text/plain": [
       "462"
      ]
     },
     "execution_count": 45,
     "metadata": {},
     "output_type": "execute_result"
    }
   ],
   "source": [
    "film_divs = []\n",
    "for div in divs:\n",
    "    try:\n",
    "        div_class = div['class']\n",
    "    except:\n",
    "        continue\n",
    "    \n",
    "    try:\n",
    "        film_class = filmo_class.parseString(div_class)\n",
    "        film_divs.append(div)\n",
    "    except:\n",
    "        continue\n",
    "\n",
    "len(film_divs)"
   ]
  },
  {
   "cell_type": "code",
   "execution_count": 46,
   "metadata": {
    "collapsed": false
   },
   "outputs": [
    {
     "data": {
      "text/plain": [
       "462"
      ]
     },
     "execution_count": 46,
     "metadata": {},
     "output_type": "execute_result"
    }
   ],
   "source": [
    "(\n",
    "    164 + \n",
    "    7 +\n",
    "    5 +\n",
    "    1 +\n",
    "    1 +\n",
    "    4 +\n",
    "    224 +\n",
    "    56)"
   ]
  },
  {
   "cell_type": "markdown",
   "metadata": {
    "slideshow": {
     "slide_type": "slide"
    }
   },
   "source": [
    "## Span for year\n",
    "\n",
    "```\n",
    "<span class=\"year_column\">\n",
    "&nbsp;2017\n",
    "</span>\n",
    "```\n"
   ]
  },
  {
   "cell_type": "code",
   "execution_count": 47,
   "metadata": {
    "collapsed": false
   },
   "outputs": [
    {
     "data": {
      "text/plain": [
       "427"
      ]
     },
     "execution_count": 47,
     "metadata": {},
     "output_type": "execute_result"
    }
   ],
   "source": [
    "span_start, span_end = makeHTMLTags(\"span\")\n",
    "year = Word(nums, exact=4)\n",
    "\n",
    "span_year = (\n",
    "      Suppress(span_start) \n",
    "    + Suppress(SkipTo(year)) \n",
    "    + year + Optional(Word(alphas + '/' +'-'))\n",
    "    + Suppress(span_end))\n",
    "\n",
    "span_year.setParseAction(lambda toks: int(toks[0]))\n",
    "span_year = span_year.setResultsName('year')\n",
    "\n",
    "years = span_year.searchString(response.text)\n",
    "len(years)"
   ]
  },
  {
   "cell_type": "code",
   "execution_count": 48,
   "metadata": {
    "collapsed": true
   },
   "outputs": [],
   "source": [
    "span_start, span_end = makeHTMLTags(\"span\")\n",
    "year = Word(nums, exact=4) + Optional(Word(alphas + '/' +'-', exact=2))\n",
    "year_range = Combine(year + Literal(\"-\") + year)\n",
    "year_value = Or([year, year_range])\n",
    "\n",
    "span_year = (\n",
    "      Suppress(span_start) \n",
    "    + Suppress(SkipTo(year_value)) \n",
    "    + year_value\n",
    "    + Suppress(span_end))\n",
    "\n",
    "span_year.setParseAction(lambda toks: int(toks[0][:4]))\n",
    "span_year = span_year.setResultsName('year')"
   ]
  },
  {
   "cell_type": "code",
   "execution_count": 49,
   "metadata": {
    "collapsed": false
   },
   "outputs": [
    {
     "data": {
      "text/plain": [
       "462"
      ]
     },
     "execution_count": 49,
     "metadata": {},
     "output_type": "execute_result"
    }
   ],
   "source": [
    "years = span_year.searchString(response.text)\n",
    "len(years)"
   ]
  },
  {
   "cell_type": "code",
   "execution_count": 50,
   "metadata": {
    "collapsed": false
   },
   "outputs": [
    {
     "data": {
      "text/plain": [
       "[([2017], {'year': [(2017, 0)]}),\n",
       " ([2017], {'year': [(2017, 0)]}),\n",
       " ([2017], {'year': [(2017, 0)]}),\n",
       " ([2016], {'year': [(2016, 0)]}),\n",
       " ([2015], {'year': [(2015, 0)]}),\n",
       " ([2015], {'year': [(2015, 0)]}),\n",
       " ([2015], {'year': [(2015, 0)]}),\n",
       " ([2014], {'year': [(2014, 0)]}),\n",
       " ([2014], {'year': [(2014, 0)]}),\n",
       " ([2014], {'year': [(2014, 0)]})]"
      ]
     },
     "execution_count": 50,
     "metadata": {},
     "output_type": "execute_result"
    }
   ],
   "source": [
    "years[:10]"
   ]
  },
  {
   "cell_type": "markdown",
   "metadata": {},
   "source": [
    "## Anchor tags"
   ]
  },
  {
   "cell_type": "code",
   "execution_count": 51,
   "metadata": {
    "collapsed": false
   },
   "outputs": [],
   "source": [
    "a_start, a_end = makeHTMLTags(\"a\")\n",
    "\n",
    "film_anchor = Suppress(a_start) + SkipTo(a_end) + Suppress(a_end)\n",
    "film_anchor = film_anchor.setResultsName('title')"
   ]
  },
  {
   "cell_type": "markdown",
   "metadata": {},
   "source": [
    "## Putting it all together\n",
    "\n",
    "```\n",
    "<div class=\"filmo-row even\" id=\"actor-tt5013056\">\n",
    "<span class=\"year_column\">\n",
    "&nbsp;2017\n",
    "</span>\n",
    "<b><a href=\"/title/tt5013056/?ref_=nm_flmg_act_2\">Dunkirk</a></b>\n",
    "<br>\n",
    "Radio Communication\n",
    "(voice, uncredited)\n",
    "</div>\n",
    "```"
   ]
  },
  {
   "cell_type": "code",
   "execution_count": 52,
   "metadata": {
    "collapsed": false
   },
   "outputs": [
    {
     "data": {
      "text/plain": [
       "462"
      ]
     },
     "execution_count": 52,
     "metadata": {},
     "output_type": "execute_result"
    }
   ],
   "source": [
    "film_div = (\n",
    "      div_start\n",
    "    + span_year \n",
    "    + Suppress(SkipTo(film_anchor))\n",
    "    + film_anchor\n",
    "    + SkipTo(div_end)\n",
    ")\n",
    "\n",
    "film_divs = film_div.searchString(response.text)\n",
    "len(film_divs)"
   ]
  },
  {
   "cell_type": "code",
   "execution_count": 53,
   "metadata": {
    "collapsed": false
   },
   "outputs": [
    {
     "data": {
      "text/plain": [
       "2017"
      ]
     },
     "execution_count": 53,
     "metadata": {},
     "output_type": "execute_result"
    }
   ],
   "source": [
    "film_divs[0].year"
   ]
  },
  {
   "cell_type": "code",
   "execution_count": 54,
   "metadata": {
    "collapsed": false
   },
   "outputs": [
    {
     "data": {
      "text/plain": [
       "([\"Coup d'Etat\"], {})"
      ]
     },
     "execution_count": 54,
     "metadata": {},
     "output_type": "execute_result"
    }
   ],
   "source": [
    "film_divs[0].title"
   ]
  },
  {
   "cell_type": "code",
   "execution_count": 55,
   "metadata": {
    "collapsed": false
   },
   "outputs": [
    {
     "data": {
      "text/plain": [
       "[2017, 2017, 2017, 2016, 2015]"
      ]
     },
     "execution_count": 55,
     "metadata": {},
     "output_type": "execute_result"
    }
   ],
   "source": [
    "years = [film.year for film in film_divs]\n",
    "years[:5]"
   ]
  },
  {
   "cell_type": "code",
   "execution_count": 56,
   "metadata": {
    "collapsed": false
   },
   "outputs": [
    {
     "data": {
      "text/plain": [
       "['[\"Coup d\\'Etat\"]',\n",
       " \"['Dunkirk']\",\n",
       " \"['Going in Style']\",\n",
       " \"['Now You See Me 2']\",\n",
       " \"['The Last Witch Hunter']\"]"
      ]
     },
     "execution_count": 56,
     "metadata": {},
     "output_type": "execute_result"
    }
   ],
   "source": [
    "films = [str(film.title) for film in film_divs]\n",
    "films[:5]"
   ]
  },
  {
   "cell_type": "code",
   "execution_count": 57,
   "metadata": {
    "collapsed": true
   },
   "outputs": [],
   "source": [
    "import pandas as pd"
   ]
  },
  {
   "cell_type": "code",
   "execution_count": 59,
   "metadata": {
    "collapsed": false
   },
   "outputs": [
    {
     "data": {
      "text/plain": [
       "<matplotlib.axes._subplots.AxesSubplot at 0x7fae5535ae48>"
      ]
     },
     "execution_count": 59,
     "metadata": {},
     "output_type": "execute_result"
    },
    {
     "data": {
      "image/png": "[encoded data removed]",
      "text/plain": [
       "<matplotlib.figure.Figure at 0x7fae553bde80>"
      ]
     },
     "metadata": {},
     "output_type": "display_data"
    }
   ],
   "source": [
    "%matplotlib inline\n",
    "years = pd.Series(years)\n",
    "\n",
    "years.value_counts().plot()"
   ]
  },
  {
   "cell_type": "code",
   "execution_count": 40,
   "metadata": {
    "collapsed": true
   },
   "outputs": [],
   "source": [
    "import matplotlib.pyplot as plt"
   ]
  },
  {
   "cell_type": "markdown",
   "metadata": {},
   "source": [
    "## A shiny new nickel to anyone who can tell me how to create a histogram in Python!"
   ]
  },
  {
   "cell_type": "code",
   "execution_count": null,
   "metadata": {
    "collapsed": false
   },
   "outputs": [],
   "source": [
    "plt.hist()"
   ]
  }
 ],
 "metadata": {
  "kernelspec": {
   "display_name": "Python 3",
   "language": "python",
   "name": "python3"
  },
  "language_info": {
   "codemirror_mode": {
    "name": "ipython",
    "version": 3
   },
   "file_extension": ".py",
   "mimetype": "text/x-python",
   "name": "python",
   "nbconvert_exporter": "python",
   "pygments_lexer": "ipython3",
   "version": "3.5.2"
  }
 },
 "nbformat": 4,
 "nbformat_minor": 1
}
